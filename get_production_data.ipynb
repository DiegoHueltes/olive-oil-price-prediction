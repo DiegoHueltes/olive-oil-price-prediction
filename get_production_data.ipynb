{
 "cells": [
  {
   "cell_type": "code",
   "execution_count": null,
   "metadata": {},
   "outputs": [],
   "source": [
    "import datetime\n",
    "import time\n",
    "import xml.etree.ElementTree as ElementTree\n",
    "from collections import defaultdict\n",
    "import requests\n",
    "import pandas as pd\n",
    "import numpy as np\n",
    "%matplotlib inline"
   ]
  },
  {
   "cell_type": "markdown",
   "metadata": {},
   "source": [
    "For the production data, we should go to [this website](https://servicio.mapama.gob.es/InformacionMercado_Aica/index.jsp?aplica=IMA) and check the cookie header so we can use this piece of code for get the data in an automated way."
   ]
  },
  {
   "cell_type": "code",
   "execution_count": null,
   "metadata": {},
   "outputs": [],
   "source": [
    "# https://servicio.mapama.gob.es/InformacionMercado_Aica/index.jsp?aplica=IMA\n",
    "# copy cookie\n",
    "headers = {\n",
    "    'cache-control': \"no-cache\",\n",
    "    'Cookie': 'JSESSIONID=6F6F84C286242686BC8D31FE1D27BA91.e0110050' ## The cookie can be used for a few minutes\n",
    "}\n",
    "url = 'https://servicio.mapama.gob.es/InformacionMercado_Aica/Prod_existenciasXML.aao?actividad=1&campa={last_year}{year}&mes_ant={month}'\n",
    "production_data = []\n",
    "for year in range(2007, 2019):\n",
    "    current_production = defaultdict(float)\n",
    "    for month in range(1, 13):\n",
    "        month_url = url.format(last_year=year - 1, year=year, month=month)\n",
    "        for row in ElementTree.fromstring(requests.request(\"GET\", month_url, headers=headers).text):\n",
    "            cells = list(row)\n",
    "            provincia = cells[3].text\n",
    "            current_tons = float(cells[7].text)\n",
    "            production_data.append({\n",
    "                'provincia': provincia,\n",
    "                'production_tons': current_tons - current_production[provincia],\n",
    "                'year_month': f'{year}-{month:02}'\n",
    "            })\n",
    "            current_production[provincia] = current_tons"
   ]
  }
 ],
 "metadata": {
  "kernelspec": {
   "display_name": "Python 3",
   "language": "python",
   "name": "python3"
  },
  "language_info": {
   "codemirror_mode": {
    "name": "ipython",
    "version": 3
   },
   "file_extension": ".py",
   "mimetype": "text/x-python",
   "name": "python",
   "nbconvert_exporter": "python",
   "pygments_lexer": "ipython3",
   "version": "3.6.6"
  },
  "varInspector": {
   "cols": {
    "lenName": 16,
    "lenType": 16,
    "lenVar": 40
   },
   "kernels_config": {
    "python": {
     "delete_cmd_postfix": "",
     "delete_cmd_prefix": "del ",
     "library": "var_list.py",
     "varRefreshCmd": "print(var_dic_list())"
    },
    "r": {
     "delete_cmd_postfix": ") ",
     "delete_cmd_prefix": "rm(",
     "library": "var_list.r",
     "varRefreshCmd": "cat(var_dic_list()) "
    }
   },
   "types_to_exclude": [
    "module",
    "function",
    "builtin_function_or_method",
    "instance",
    "_Feature"
   ],
   "window_display": false
  }
 },
 "nbformat": 4,
 "nbformat_minor": 2
}
