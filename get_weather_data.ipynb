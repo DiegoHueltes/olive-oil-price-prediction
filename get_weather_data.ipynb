{
 "cells": [
  {
   "cell_type": "code",
   "execution_count": null,
   "metadata": {},
   "outputs": [],
   "source": [
    "import datetime\n",
    "import time\n",
    "import requests\n",
    "import pandas as pd\n",
    "import numpy as np"
   ]
  },
  {
   "cell_type": "markdown",
   "metadata": {},
   "source": [
    "For getting this data from AEMET you need to get an API key, which can be requested for free here: https://opendata.aemet.es"
   ]
  },
  {
   "cell_type": "code",
   "execution_count": null,
   "metadata": {},
   "outputs": [],
   "source": [
    "i = 0\n",
    "headers = {'cache-control': \"no-cache\"}\n",
    "params = {\n",
    "    \"api_key\": \"API_KEEY\"\n",
    "}\n",
    "base_url = 'https://opendata.aemet.es/opendata/api/valores/climatologicos/diarios/datos'\n",
    "\n",
    "weather_df = pd.DataFrame()\n",
    "start_date = datetime.date(2006, 10, 8)\n",
    "end_date = datetime.date(2017, 9, 25)\n",
    "\n",
    "while start_date < end_date:\n",
    "    if i == 20:\n",
    "        # To avoid raising the limit\n",
    "        time.sleep(60)\n",
    "        i = 0\n",
    "    else:\n",
    "        i += 1\n",
    "    # Get week data\n",
    "    end_week = start_date + datetime.timedelta(days=6)\n",
    "    url = f'{base_url}/fechaini/{start_date.strftime(\"%Y-%m-%dT00:00:00UTC\")}/fechafin/{end_week.strftime(\"%Y-%m-%dT23:59:59UTC\")}/todasestaciones'\n",
    "    response = requests.request(\"GET\", url, headers=headers, params=params)\n",
    "    data_url = response.json()['datos']\n",
    "    # Second call for getting the data\n",
    "    data_response = requests.request(\"GET\", data_url)\n",
    "    week_df = pd.DataFrame(data_response.json())\n",
    "\n",
    "    # data cleaning and grouping\n",
    "    week_df['week'] = f'{start_date.isocalendar()[1]}-{start_date.isocalendar()[0]}'\n",
    "    start_date = start_date + datetime.timedelta(days=7)\n",
    "    week_df = week_df[['week', 'provincia', 'tmin', 'tmax', 'tmed', 'prec', 'racha']]\n",
    "    week_df = week_df.dropna()\n",
    "    week_df['tmin'] = week_df['tmin'].apply(lambda x: float(x.replace(',', '.')))\n",
    "    week_df['tmax'] = week_df['tmax'].apply(lambda x: float(x.replace(',', '.')))\n",
    "    week_df['tmed'] = week_df['tmed'].apply(lambda x: float(x.replace(',', '.')))\n",
    "    week_df['prec'] = week_df['prec'].apply(\n",
    "        lambda x: float(x.replace(',', '.')) if ',' in x else None)\n",
    "    week_df['racha'] = week_df['racha'].apply(lambda x: float(x.replace(',', '.')))\n",
    "    week_df = week_df.dropna()\n",
    "    week_df = week_df.groupby(\n",
    "        ['week', 'provincia'], as_index=False).agg({\n",
    "            'tmin': 'min',\n",
    "            'tmax': 'max',\n",
    "            'tmed': 'mean',\n",
    "            'prec': 'sum',\n",
    "            'racha': 'max'\n",
    "        })\n",
    "    weather_df = weather_df.append(week_df)"
   ]
  },
  {
   "cell_type": "code",
   "execution_count": null,
   "metadata": {},
   "outputs": [],
   "source": [
    "weather_df.to_hdf('data/weather_data.hdf', 'data')"
   ]
  }
 ],
 "metadata": {
  "kernelspec": {
   "display_name": "Python 3",
   "language": "python",
   "name": "python3"
  },
  "language_info": {
   "codemirror_mode": {
    "name": "ipython",
    "version": 3
   },
   "file_extension": ".py",
   "mimetype": "text/x-python",
   "name": "python",
   "nbconvert_exporter": "python",
   "pygments_lexer": "ipython3",
   "version": "3.6.6"
  },
  "varInspector": {
   "cols": {
    "lenName": 16,
    "lenType": 16,
    "lenVar": 40
   },
   "kernels_config": {
    "python": {
     "delete_cmd_postfix": "",
     "delete_cmd_prefix": "del ",
     "library": "var_list.py",
     "varRefreshCmd": "print(var_dic_list())"
    },
    "r": {
     "delete_cmd_postfix": ") ",
     "delete_cmd_prefix": "rm(",
     "library": "var_list.r",
     "varRefreshCmd": "cat(var_dic_list()) "
    }
   },
   "types_to_exclude": [
    "module",
    "function",
    "builtin_function_or_method",
    "instance",
    "_Feature"
   ],
   "window_display": false
  }
 },
 "nbformat": 4,
 "nbformat_minor": 2
}
